{
 "cells": [
  {
   "cell_type": "code",
   "execution_count": 1,
   "metadata": {
    "collapsed": false
   },
   "outputs": [
    {
     "name": "stdout",
     "output_type": "stream",
     "text": [
      "Populating the interactive namespace from numpy and matplotlib\n"
     ]
    }
   ],
   "source": [
    "%pylab inline"
   ]
  },
  {
   "cell_type": "code",
   "execution_count": 2,
   "metadata": {
    "collapsed": false
   },
   "outputs": [],
   "source": [
    "import gefry3 as G"
   ]
  },
  {
   "cell_type": "markdown",
   "metadata": {},
   "source": [
    "## Loading inputs and basic functionality"
   ]
  },
  {
   "cell_type": "markdown",
   "metadata": {},
   "source": [
    "Input decks are in YAML, a simple human-readable markup language.\n",
    "You can use `read_input_problem` to load a problem deck. This returns\n",
    "an object representing the problem, which can be called to evalute the\n",
    "detector response (more on this in a minute). \n",
    "\n",
    "`read_input_problem` takes two paramaters. The first is the path to the\n",
    "input file and is mandatory. The second is `problem_type`, which selects\n",
    "between different models. Currently `problem_type` can be one of two\n",
    "options:\n",
    "\n",
    "1. `\"Simple_Problem\"` - the basic type of problem, cross sections are fixed. \n",
    "2. `\"Perturbable_XS_Problem\"` - cross section's are variable and are provided\n",
    "    as an argument at every evaluation.\n",
    "        \n",
    "If you do not specify a `problem_type` it will either read it from the input\n",
    "file or if it is not given there it will default to `Simple_Problem`. If\n",
    "`problem_type` is given to `read_input_problem` and it is present in the input\n",
    "file, the value passed to `problem_type` will take priority (this will generate\n",
    "a warning)."
   ]
  },
  {
   "cell_type": "code",
   "execution_count": 3,
   "metadata": {
    "collapsed": false
   },
   "outputs": [],
   "source": [
    "P = G.read_input_problem(\"g3_deck.yml\", problem_type=\"Simple_Problem\")"
   ]
  },
  {
   "cell_type": "code",
   "execution_count": 4,
   "metadata": {
    "collapsed": true
   },
   "outputs": [],
   "source": [
    "S0 = np.array([158., 98.]) # This is the *actual* source location, in meters\n",
    "\n",
    "I0 = 3.214e9               # The actual source intensity, corresponds to\n",
    "                           # 1 mg of Cesium-137, this value is in Becquerels\n",
    "    \n",
    "# These are also given in g3_deck.yml, though they aren't used by the code\n",
    "# and are there just to keep things organized."
   ]
  },
  {
   "cell_type": "markdown",
   "metadata": {},
   "source": [
    "`P` is now `Simple_Problem`. You can call `P` to get the vector of detector responses.\n",
    "It takes two arguments, `r`, which is a list-like (i.e., a NumPy array) of the `(x,y)`\n",
    "coordinates of the source, and `I`, which is the activity of the source in Becquerels\n",
    "(disintegrations / second). \n",
    "\n",
    "Here I generate the nominal response to the true source by calling P at the true source\n",
    "location and intensity."
   ]
  },
  {
   "cell_type": "code",
   "execution_count": 5,
   "metadata": {
    "collapsed": false
   },
   "outputs": [
    {
     "name": "stdout",
     "output_type": "stream",
     "text": [
      "[  29.87849686   89.7422458     0.41692635  232.13770905  138.93759013\n",
      "   26.94075027   48.34436879  292.29445259  196.03584566  170.2281518 ]\n"
     ]
    }
   ],
   "source": [
    "nominal = P(S0, I0)\n",
    "print(nominal)"
   ]
  },
  {
   "cell_type": "markdown",
   "metadata": {},
   "source": [
    "It's important to note: the output is a vector of bulk counts seen by each detector. This is a \n",
    "**purely deterministic** calculation using the ray tracing model we've developed. This \n",
    "does not include any background and does not include any statistical variation, we have\n",
    "to add these ourselves.\n",
    "\n",
    "Also of note - the order of the entries correspond to the detectors, *according to the\n",
    "order they were given in the input file*.\n",
    "\n",
    "Now, let's generate some simulated data that does include background. Let's start with background,\n",
    "a good value for the detectors we are simulating in the Southeastern U.S. is that you\n",
    "will measure a mean of 300 counts per second (CPS). However the model works with bulk counts (i.e.,\n",
    "`(counts per second) * (measurement time)`), so we need to read the dwell times for the detectors \n",
    "(\"dwell time\" is how long the detector recorded counts for). \n",
    "\n",
    "The dwell times are all in seconds. Again, the order here of the dwell times matches the order in the\n",
    "input (they're all the same for this example, but they will usually be at least slightly different in\n",
    "a real measurement). Also of note, this is assuming the background rate is constant everywhere in\n",
    "the scene. This is not exactly true in reality."
   ]
  },
  {
   "cell_type": "code",
   "execution_count": 6,
   "metadata": {
    "collapsed": false
   },
   "outputs": [
    {
     "name": "stdout",
     "output_type": "stream",
     "text": [
      "[ 5.  5.  5.  5.  5.  5.  5.  5.  5.  5.]\n",
      "[ 1500.  1500.  1500.  1500.  1500.  1500.  1500.  1500.  1500.  1500.]\n"
     ]
    }
   ],
   "source": [
    "B0 = 300 # Nominal background rate, cps\n",
    "\n",
    "dwell = array([detector.dwell for detector in P.detectors])\n",
    "B_nominal = B0 * dwell\n",
    "\n",
    "print(dwell)\n",
    "print(B_nominal)"
   ]
  },
  {
   "cell_type": "markdown",
   "metadata": {},
   "source": [
    "We can now simulate a response by drawing a sample from `Po[nominal + B_nominal]`.\n",
    "\n",
    "The result is a vector of *counts* recorded by each detector, which we can use as\n",
    "our calibration data."
   ]
  },
  {
   "cell_type": "code",
   "execution_count": 7,
   "metadata": {
    "collapsed": false
   },
   "outputs": [
    {
     "name": "stdout",
     "output_type": "stream",
     "text": [
      "[1577 1607 1484 1777 1626 1553 1581 1785 1728 1610]\n"
     ]
    }
   ],
   "source": [
    "data = np.random.poisson(nominal + B_nominal)\n",
    "\n",
    "print(data)"
   ]
  },
  {
   "cell_type": "code",
   "execution_count": null,
   "metadata": {
    "collapsed": true
   },
   "outputs": [],
   "source": []
  }
 ],
 "metadata": {
  "anaconda-cloud": {},
  "kernelspec": {
   "display_name": "Python [conda env:gefry3-py3]",
   "language": "python",
   "name": "conda-env-gefry3-py3-py"
  },
  "language_info": {
   "codemirror_mode": {
    "name": "ipython",
    "version": 3
   },
   "file_extension": ".py",
   "mimetype": "text/x-python",
   "name": "python",
   "nbconvert_exporter": "python",
   "pygments_lexer": "ipython3",
   "version": "3.5.2"
  }
 },
 "nbformat": 4,
 "nbformat_minor": 1
}
